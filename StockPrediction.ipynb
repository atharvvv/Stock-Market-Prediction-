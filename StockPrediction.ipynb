{
  "cells": [
    {
      "cell_type": "markdown",
      "metadata": {
        "id": "YpIzOwOsadBx"
      },
      "source": [
        "#Stock Market Prediction And Forecasting Using Stacked LSTM"
      ]
    },
    {
      "cell_type": "code",
      "execution_count": null,
      "metadata": {
        "id": "v6zbyZczaaV4"
      },
      "outputs": [],
      "source": [
        "### Keras and Tensorflow > 2.0"
      ]
    },
    {
      "cell_type": "code",
      "execution_count": null,
      "metadata": {
        "id": "1ARJS2Dza3xw"
      },
      "outputs": [],
      "source": [
        "import pandas_datareader as pdr"
      ]
    },
    {
      "cell_type": "code",
      "execution_count": null,
      "metadata": {
        "colab": {
          "base_uri": "https://localhost:8080/"
        },
        "id": "XgG2xe_FbGu8",
        "outputId": "ac75a211-5006-43be-bf98-4ce54eae4027"
      },
      "outputs": [
        {
          "name": "stderr",
          "output_type": "stream",
          "text": [
            "<ipython-input-6-34a987afb217>:1: FutureWarning: In a future version of pandas all arguments of concat except for the argument 'objs' will be keyword-only.\n",
            "  df = pdr.get_data_tiingo('AAPL', api_key =\" 5ca71302c7b373471f2a9434807735f829b79a06\")\n"
          ]
        }
      ],
      "source": [
        "df = pdr.get_data_tiingo('AAPL', api_key =\" 5ca71302c7b373471f2a9434807735f829b79a06\")"
      ]
    },
    {
      "cell_type": "code",
      "execution_count": null,
      "metadata": {
        "id": "42AVkKn6bdaT"
      },
      "outputs": [],
      "source": [
        "df.to_csv('AAPL.csv')"
      ]
    },
    {
      "cell_type": "code",
      "execution_count": null,
      "metadata": {
        "id": "6o7qF6lGbjEb"
      },
      "outputs": [],
      "source": [
        "import pandas as pd"
      ]
    },
    {
      "cell_type": "code",
      "execution_count": null,
      "metadata": {
        "id": "dMlRzOxnbowo"
      },
      "outputs": [],
      "source": [
        "df = pd.read_csv('AAPL.csv')"
      ]
    },
    {
      "cell_type": "code",
      "execution_count": null,
      "metadata": {
        "colab": {
          "base_uri": "https://localhost:8080/",
          "height": 313
        },
        "id": "t_IMjQusb0p3",
        "outputId": "16352ee6-944a-4a74-e91b-70ce74f891d3"
      },
      "outputs": [
        {
          "data": {
            "text/html": [
              "\n",
              "  <div id=\"df-0b9eac30-df5b-45f8-be94-7a8f4276fbd0\" class=\"colab-df-container\">\n",
              "    <div>\n",
              "<style scoped>\n",
              "    .dataframe tbody tr th:only-of-type {\n",
              "        vertical-align: middle;\n",
              "    }\n",
              "\n",
              "    .dataframe tbody tr th {\n",
              "        vertical-align: top;\n",
              "    }\n",
              "\n",
              "    .dataframe thead th {\n",
              "        text-align: right;\n",
              "    }\n",
              "</style>\n",
              "<table border=\"1\" class=\"dataframe\">\n",
              "  <thead>\n",
              "    <tr style=\"text-align: right;\">\n",
              "      <th></th>\n",
              "      <th>symbol</th>\n",
              "      <th>date</th>\n",
              "      <th>close</th>\n",
              "      <th>high</th>\n",
              "      <th>low</th>\n",
              "      <th>open</th>\n",
              "      <th>volume</th>\n",
              "      <th>adjClose</th>\n",
              "      <th>adjHigh</th>\n",
              "      <th>adjLow</th>\n",
              "      <th>adjOpen</th>\n",
              "      <th>adjVolume</th>\n",
              "      <th>divCash</th>\n",
              "      <th>splitFactor</th>\n",
              "    </tr>\n",
              "  </thead>\n",
              "  <tbody>\n",
              "    <tr>\n",
              "      <th>0</th>\n",
              "      <td>AAPL</td>\n",
              "      <td>2018-08-31 00:00:00+00:00</td>\n",
              "      <td>227.63</td>\n",
              "      <td>228.87</td>\n",
              "      <td>226.00</td>\n",
              "      <td>226.51</td>\n",
              "      <td>43340134</td>\n",
              "      <td>54.498229</td>\n",
              "      <td>54.795104</td>\n",
              "      <td>54.107981</td>\n",
              "      <td>54.230083</td>\n",
              "      <td>173360536</td>\n",
              "      <td>0.0</td>\n",
              "      <td>1.0</td>\n",
              "    </tr>\n",
              "    <tr>\n",
              "      <th>1</th>\n",
              "      <td>AAPL</td>\n",
              "      <td>2018-09-04 00:00:00+00:00</td>\n",
              "      <td>228.36</td>\n",
              "      <td>229.18</td>\n",
              "      <td>226.63</td>\n",
              "      <td>228.41</td>\n",
              "      <td>27390132</td>\n",
              "      <td>54.673002</td>\n",
              "      <td>54.869323</td>\n",
              "      <td>54.258813</td>\n",
              "      <td>54.684973</td>\n",
              "      <td>109560528</td>\n",
              "      <td>0.0</td>\n",
              "      <td>1.0</td>\n",
              "    </tr>\n",
              "    <tr>\n",
              "      <th>2</th>\n",
              "      <td>AAPL</td>\n",
              "      <td>2018-09-05 00:00:00+00:00</td>\n",
              "      <td>226.87</td>\n",
              "      <td>229.67</td>\n",
              "      <td>225.10</td>\n",
              "      <td>228.99</td>\n",
              "      <td>33332960</td>\n",
              "      <td>54.316273</td>\n",
              "      <td>54.986637</td>\n",
              "      <td>53.892507</td>\n",
              "      <td>54.823834</td>\n",
              "      <td>133331840</td>\n",
              "      <td>0.0</td>\n",
              "      <td>1.0</td>\n",
              "    </tr>\n",
              "    <tr>\n",
              "      <th>3</th>\n",
              "      <td>AAPL</td>\n",
              "      <td>2018-09-06 00:00:00+00:00</td>\n",
              "      <td>223.10</td>\n",
              "      <td>227.35</td>\n",
              "      <td>221.30</td>\n",
              "      <td>226.23</td>\n",
              "      <td>34289976</td>\n",
              "      <td>53.413675</td>\n",
              "      <td>54.431192</td>\n",
              "      <td>52.982726</td>\n",
              "      <td>54.163047</td>\n",
              "      <td>137159904</td>\n",
              "      <td>0.0</td>\n",
              "      <td>1.0</td>\n",
              "    </tr>\n",
              "    <tr>\n",
              "      <th>4</th>\n",
              "      <td>AAPL</td>\n",
              "      <td>2018-09-07 00:00:00+00:00</td>\n",
              "      <td>221.30</td>\n",
              "      <td>225.37</td>\n",
              "      <td>220.71</td>\n",
              "      <td>221.85</td>\n",
              "      <td>37619810</td>\n",
              "      <td>52.982726</td>\n",
              "      <td>53.957149</td>\n",
              "      <td>52.841471</td>\n",
              "      <td>53.114405</td>\n",
              "      <td>150479240</td>\n",
              "      <td>0.0</td>\n",
              "      <td>1.0</td>\n",
              "    </tr>\n",
              "  </tbody>\n",
              "</table>\n",
              "</div>\n",
              "    <div class=\"colab-df-buttons\">\n",
              "\n",
              "  <div class=\"colab-df-container\">\n",
              "    <button class=\"colab-df-convert\" onclick=\"convertToInteractive('df-0b9eac30-df5b-45f8-be94-7a8f4276fbd0')\"\n",
              "            title=\"Convert this dataframe to an interactive table.\"\n",
              "            style=\"display:none;\">\n",
              "\n",
              "  <svg xmlns=\"http://www.w3.org/2000/svg\" height=\"24px\" viewBox=\"0 -960 960 960\">\n",
              "    <path d=\"M120-120v-720h720v720H120Zm60-500h600v-160H180v160Zm220 220h160v-160H400v160Zm0 220h160v-160H400v160ZM180-400h160v-160H180v160Zm440 0h160v-160H620v160ZM180-180h160v-160H180v160Zm440 0h160v-160H620v160Z\"/>\n",
              "  </svg>\n",
              "    </button>\n",
              "\n",
              "  <style>\n",
              "    .colab-df-container {\n",
              "      display:flex;\n",
              "      gap: 12px;\n",
              "    }\n",
              "\n",
              "    .colab-df-convert {\n",
              "      background-color: #E8F0FE;\n",
              "      border: none;\n",
              "      border-radius: 50%;\n",
              "      cursor: pointer;\n",
              "      display: none;\n",
              "      fill: #1967D2;\n",
              "      height: 32px;\n",
              "      padding: 0 0 0 0;\n",
              "      width: 32px;\n",
              "    }\n",
              "\n",
              "    .colab-df-convert:hover {\n",
              "      background-color: #E2EBFA;\n",
              "      box-shadow: 0px 1px 2px rgba(60, 64, 67, 0.3), 0px 1px 3px 1px rgba(60, 64, 67, 0.15);\n",
              "      fill: #174EA6;\n",
              "    }\n",
              "\n",
              "    .colab-df-buttons div {\n",
              "      margin-bottom: 4px;\n",
              "    }\n",
              "\n",
              "    [theme=dark] .colab-df-convert {\n",
              "      background-color: #3B4455;\n",
              "      fill: #D2E3FC;\n",
              "    }\n",
              "\n",
              "    [theme=dark] .colab-df-convert:hover {\n",
              "      background-color: #434B5C;\n",
              "      box-shadow: 0px 1px 3px 1px rgba(0, 0, 0, 0.15);\n",
              "      filter: drop-shadow(0px 1px 2px rgba(0, 0, 0, 0.3));\n",
              "      fill: #FFFFFF;\n",
              "    }\n",
              "  </style>\n",
              "\n",
              "    <script>\n",
              "      const buttonEl =\n",
              "        document.querySelector('#df-0b9eac30-df5b-45f8-be94-7a8f4276fbd0 button.colab-df-convert');\n",
              "      buttonEl.style.display =\n",
              "        google.colab.kernel.accessAllowed ? 'block' : 'none';\n",
              "\n",
              "      async function convertToInteractive(key) {\n",
              "        const element = document.querySelector('#df-0b9eac30-df5b-45f8-be94-7a8f4276fbd0');\n",
              "        const dataTable =\n",
              "          await google.colab.kernel.invokeFunction('convertToInteractive',\n",
              "                                                    [key], {});\n",
              "        if (!dataTable) return;\n",
              "\n",
              "        const docLinkHtml = 'Like what you see? Visit the ' +\n",
              "          '<a target=\"_blank\" href=https://colab.research.google.com/notebooks/data_table.ipynb>data table notebook</a>'\n",
              "          + ' to learn more about interactive tables.';\n",
              "        element.innerHTML = '';\n",
              "        dataTable['output_type'] = 'display_data';\n",
              "        await google.colab.output.renderOutput(dataTable, element);\n",
              "        const docLink = document.createElement('div');\n",
              "        docLink.innerHTML = docLinkHtml;\n",
              "        element.appendChild(docLink);\n",
              "      }\n",
              "    </script>\n",
              "  </div>\n",
              "\n",
              "\n",
              "<div id=\"df-187ed699-f21d-4beb-8be5-7f113f81e29e\">\n",
              "  <button class=\"colab-df-quickchart\" onclick=\"quickchart('df-187ed699-f21d-4beb-8be5-7f113f81e29e')\"\n",
              "            title=\"Suggest charts.\"\n",
              "            style=\"display:none;\">\n",
              "\n",
              "<svg xmlns=\"http://www.w3.org/2000/svg\" height=\"24px\"viewBox=\"0 0 24 24\"\n",
              "     width=\"24px\">\n",
              "    <g>\n",
              "        <path d=\"M19 3H5c-1.1 0-2 .9-2 2v14c0 1.1.9 2 2 2h14c1.1 0 2-.9 2-2V5c0-1.1-.9-2-2-2zM9 17H7v-7h2v7zm4 0h-2V7h2v10zm4 0h-2v-4h2v4z\"/>\n",
              "    </g>\n",
              "</svg>\n",
              "  </button>\n",
              "\n",
              "<style>\n",
              "  .colab-df-quickchart {\n",
              "    background-color: #E8F0FE;\n",
              "    border: none;\n",
              "    border-radius: 50%;\n",
              "    cursor: pointer;\n",
              "    display: none;\n",
              "    fill: #1967D2;\n",
              "    height: 32px;\n",
              "    padding: 0 0 0 0;\n",
              "    width: 32px;\n",
              "  }\n",
              "\n",
              "  .colab-df-quickchart:hover {\n",
              "    background-color: #E2EBFA;\n",
              "    box-shadow: 0px 1px 2px rgba(60, 64, 67, 0.3), 0px 1px 3px 1px rgba(60, 64, 67, 0.15);\n",
              "    fill: #174EA6;\n",
              "  }\n",
              "\n",
              "  [theme=dark] .colab-df-quickchart {\n",
              "    background-color: #3B4455;\n",
              "    fill: #D2E3FC;\n",
              "  }\n",
              "\n",
              "  [theme=dark] .colab-df-quickchart:hover {\n",
              "    background-color: #434B5C;\n",
              "    box-shadow: 0px 1px 3px 1px rgba(0, 0, 0, 0.15);\n",
              "    filter: drop-shadow(0px 1px 2px rgba(0, 0, 0, 0.3));\n",
              "    fill: #FFFFFF;\n",
              "  }\n",
              "</style>\n",
              "\n",
              "  <script>\n",
              "    async function quickchart(key) {\n",
              "      const charts = await google.colab.kernel.invokeFunction(\n",
              "          'suggestCharts', [key], {});\n",
              "    }\n",
              "    (() => {\n",
              "      let quickchartButtonEl =\n",
              "        document.querySelector('#df-187ed699-f21d-4beb-8be5-7f113f81e29e button');\n",
              "      quickchartButtonEl.style.display =\n",
              "        google.colab.kernel.accessAllowed ? 'block' : 'none';\n",
              "    })();\n",
              "  </script>\n",
              "</div>\n",
              "    </div>\n",
              "  </div>\n"
            ],
            "text/plain": [
              "  symbol                       date   close    high     low    open    volume  \\\n",
              "0   AAPL  2018-08-31 00:00:00+00:00  227.63  228.87  226.00  226.51  43340134   \n",
              "1   AAPL  2018-09-04 00:00:00+00:00  228.36  229.18  226.63  228.41  27390132   \n",
              "2   AAPL  2018-09-05 00:00:00+00:00  226.87  229.67  225.10  228.99  33332960   \n",
              "3   AAPL  2018-09-06 00:00:00+00:00  223.10  227.35  221.30  226.23  34289976   \n",
              "4   AAPL  2018-09-07 00:00:00+00:00  221.30  225.37  220.71  221.85  37619810   \n",
              "\n",
              "    adjClose    adjHigh     adjLow    adjOpen  adjVolume  divCash  splitFactor  \n",
              "0  54.498229  54.795104  54.107981  54.230083  173360536      0.0          1.0  \n",
              "1  54.673002  54.869323  54.258813  54.684973  109560528      0.0          1.0  \n",
              "2  54.316273  54.986637  53.892507  54.823834  133331840      0.0          1.0  \n",
              "3  53.413675  54.431192  52.982726  54.163047  137159904      0.0          1.0  \n",
              "4  52.982726  53.957149  52.841471  53.114405  150479240      0.0          1.0  "
            ]
          },
          "execution_count": 10,
          "metadata": {},
          "output_type": "execute_result"
        }
      ],
      "source": [
        "df.head()"
      ]
    },
    {
      "cell_type": "code",
      "execution_count": null,
      "metadata": {
        "colab": {
          "base_uri": "https://localhost:8080/",
          "height": 313
        },
        "id": "pNy2rw7Mb_Lu",
        "outputId": "5f02bb7c-54de-48f6-aa75-e1a5b8935f0c"
      },
      "outputs": [
        {
          "data": {
            "text/html": [
              "\n",
              "  <div id=\"df-cab8b5f8-e434-49b3-abeb-8c822050aed9\" class=\"colab-df-container\">\n",
              "    <div>\n",
              "<style scoped>\n",
              "    .dataframe tbody tr th:only-of-type {\n",
              "        vertical-align: middle;\n",
              "    }\n",
              "\n",
              "    .dataframe tbody tr th {\n",
              "        vertical-align: top;\n",
              "    }\n",
              "\n",
              "    .dataframe thead th {\n",
              "        text-align: right;\n",
              "    }\n",
              "</style>\n",
              "<table border=\"1\" class=\"dataframe\">\n",
              "  <thead>\n",
              "    <tr style=\"text-align: right;\">\n",
              "      <th></th>\n",
              "      <th>symbol</th>\n",
              "      <th>date</th>\n",
              "      <th>close</th>\n",
              "      <th>high</th>\n",
              "      <th>low</th>\n",
              "      <th>open</th>\n",
              "      <th>volume</th>\n",
              "      <th>adjClose</th>\n",
              "      <th>adjHigh</th>\n",
              "      <th>adjLow</th>\n",
              "      <th>adjOpen</th>\n",
              "      <th>adjVolume</th>\n",
              "      <th>divCash</th>\n",
              "      <th>splitFactor</th>\n",
              "    </tr>\n",
              "  </thead>\n",
              "  <tbody>\n",
              "    <tr>\n",
              "      <th>1251</th>\n",
              "      <td>AAPL</td>\n",
              "      <td>2023-08-23 00:00:00+00:00</td>\n",
              "      <td>181.12</td>\n",
              "      <td>181.550</td>\n",
              "      <td>178.325</td>\n",
              "      <td>178.520</td>\n",
              "      <td>52722752</td>\n",
              "      <td>181.12</td>\n",
              "      <td>181.550</td>\n",
              "      <td>178.325</td>\n",
              "      <td>178.520</td>\n",
              "      <td>52722752</td>\n",
              "      <td>0.0</td>\n",
              "      <td>1.0</td>\n",
              "    </tr>\n",
              "    <tr>\n",
              "      <th>1252</th>\n",
              "      <td>AAPL</td>\n",
              "      <td>2023-08-24 00:00:00+00:00</td>\n",
              "      <td>176.38</td>\n",
              "      <td>181.104</td>\n",
              "      <td>176.010</td>\n",
              "      <td>180.674</td>\n",
              "      <td>54945798</td>\n",
              "      <td>176.38</td>\n",
              "      <td>181.104</td>\n",
              "      <td>176.010</td>\n",
              "      <td>180.674</td>\n",
              "      <td>54945798</td>\n",
              "      <td>0.0</td>\n",
              "      <td>1.0</td>\n",
              "    </tr>\n",
              "    <tr>\n",
              "      <th>1253</th>\n",
              "      <td>AAPL</td>\n",
              "      <td>2023-08-25 00:00:00+00:00</td>\n",
              "      <td>178.61</td>\n",
              "      <td>179.150</td>\n",
              "      <td>175.820</td>\n",
              "      <td>177.380</td>\n",
              "      <td>51449594</td>\n",
              "      <td>178.61</td>\n",
              "      <td>179.150</td>\n",
              "      <td>175.820</td>\n",
              "      <td>177.380</td>\n",
              "      <td>51449594</td>\n",
              "      <td>0.0</td>\n",
              "      <td>1.0</td>\n",
              "    </tr>\n",
              "    <tr>\n",
              "      <th>1254</th>\n",
              "      <td>AAPL</td>\n",
              "      <td>2023-08-28 00:00:00+00:00</td>\n",
              "      <td>180.19</td>\n",
              "      <td>180.590</td>\n",
              "      <td>178.545</td>\n",
              "      <td>180.090</td>\n",
              "      <td>43820697</td>\n",
              "      <td>180.19</td>\n",
              "      <td>180.590</td>\n",
              "      <td>178.545</td>\n",
              "      <td>180.090</td>\n",
              "      <td>43820697</td>\n",
              "      <td>0.0</td>\n",
              "      <td>1.0</td>\n",
              "    </tr>\n",
              "    <tr>\n",
              "      <th>1255</th>\n",
              "      <td>AAPL</td>\n",
              "      <td>2023-08-29 00:00:00+00:00</td>\n",
              "      <td>184.12</td>\n",
              "      <td>184.900</td>\n",
              "      <td>179.500</td>\n",
              "      <td>179.695</td>\n",
              "      <td>53003948</td>\n",
              "      <td>184.12</td>\n",
              "      <td>184.900</td>\n",
              "      <td>179.500</td>\n",
              "      <td>179.695</td>\n",
              "      <td>53003948</td>\n",
              "      <td>0.0</td>\n",
              "      <td>1.0</td>\n",
              "    </tr>\n",
              "  </tbody>\n",
              "</table>\n",
              "</div>\n",
              "    <div class=\"colab-df-buttons\">\n",
              "\n",
              "  <div class=\"colab-df-container\">\n",
              "    <button class=\"colab-df-convert\" onclick=\"convertToInteractive('df-cab8b5f8-e434-49b3-abeb-8c822050aed9')\"\n",
              "            title=\"Convert this dataframe to an interactive table.\"\n",
              "            style=\"display:none;\">\n",
              "\n",
              "  <svg xmlns=\"http://www.w3.org/2000/svg\" height=\"24px\" viewBox=\"0 -960 960 960\">\n",
              "    <path d=\"M120-120v-720h720v720H120Zm60-500h600v-160H180v160Zm220 220h160v-160H400v160Zm0 220h160v-160H400v160ZM180-400h160v-160H180v160Zm440 0h160v-160H620v160ZM180-180h160v-160H180v160Zm440 0h160v-160H620v160Z\"/>\n",
              "  </svg>\n",
              "    </button>\n",
              "\n",
              "  <style>\n",
              "    .colab-df-container {\n",
              "      display:flex;\n",
              "      gap: 12px;\n",
              "    }\n",
              "\n",
              "    .colab-df-convert {\n",
              "      background-color: #E8F0FE;\n",
              "      border: none;\n",
              "      border-radius: 50%;\n",
              "      cursor: pointer;\n",
              "      display: none;\n",
              "      fill: #1967D2;\n",
              "      height: 32px;\n",
              "      padding: 0 0 0 0;\n",
              "      width: 32px;\n",
              "    }\n",
              "\n",
              "    .colab-df-convert:hover {\n",
              "      background-color: #E2EBFA;\n",
              "      box-shadow: 0px 1px 2px rgba(60, 64, 67, 0.3), 0px 1px 3px 1px rgba(60, 64, 67, 0.15);\n",
              "      fill: #174EA6;\n",
              "    }\n",
              "\n",
              "    .colab-df-buttons div {\n",
              "      margin-bottom: 4px;\n",
              "    }\n",
              "\n",
              "    [theme=dark] .colab-df-convert {\n",
              "      background-color: #3B4455;\n",
              "      fill: #D2E3FC;\n",
              "    }\n",
              "\n",
              "    [theme=dark] .colab-df-convert:hover {\n",
              "      background-color: #434B5C;\n",
              "      box-shadow: 0px 1px 3px 1px rgba(0, 0, 0, 0.15);\n",
              "      filter: drop-shadow(0px 1px 2px rgba(0, 0, 0, 0.3));\n",
              "      fill: #FFFFFF;\n",
              "    }\n",
              "  </style>\n",
              "\n",
              "    <script>\n",
              "      const buttonEl =\n",
              "        document.querySelector('#df-cab8b5f8-e434-49b3-abeb-8c822050aed9 button.colab-df-convert');\n",
              "      buttonEl.style.display =\n",
              "        google.colab.kernel.accessAllowed ? 'block' : 'none';\n",
              "\n",
              "      async function convertToInteractive(key) {\n",
              "        const element = document.querySelector('#df-cab8b5f8-e434-49b3-abeb-8c822050aed9');\n",
              "        const dataTable =\n",
              "          await google.colab.kernel.invokeFunction('convertToInteractive',\n",
              "                                                    [key], {});\n",
              "        if (!dataTable) return;\n",
              "\n",
              "        const docLinkHtml = 'Like what you see? Visit the ' +\n",
              "          '<a target=\"_blank\" href=https://colab.research.google.com/notebooks/data_table.ipynb>data table notebook</a>'\n",
              "          + ' to learn more about interactive tables.';\n",
              "        element.innerHTML = '';\n",
              "        dataTable['output_type'] = 'display_data';\n",
              "        await google.colab.output.renderOutput(dataTable, element);\n",
              "        const docLink = document.createElement('div');\n",
              "        docLink.innerHTML = docLinkHtml;\n",
              "        element.appendChild(docLink);\n",
              "      }\n",
              "    </script>\n",
              "  </div>\n",
              "\n",
              "\n",
              "<div id=\"df-4905fa58-aaa3-47d0-ae62-7e6769faf680\">\n",
              "  <button class=\"colab-df-quickchart\" onclick=\"quickchart('df-4905fa58-aaa3-47d0-ae62-7e6769faf680')\"\n",
              "            title=\"Suggest charts.\"\n",
              "            style=\"display:none;\">\n",
              "\n",
              "<svg xmlns=\"http://www.w3.org/2000/svg\" height=\"24px\"viewBox=\"0 0 24 24\"\n",
              "     width=\"24px\">\n",
              "    <g>\n",
              "        <path d=\"M19 3H5c-1.1 0-2 .9-2 2v14c0 1.1.9 2 2 2h14c1.1 0 2-.9 2-2V5c0-1.1-.9-2-2-2zM9 17H7v-7h2v7zm4 0h-2V7h2v10zm4 0h-2v-4h2v4z\"/>\n",
              "    </g>\n",
              "</svg>\n",
              "  </button>\n",
              "\n",
              "<style>\n",
              "  .colab-df-quickchart {\n",
              "    background-color: #E8F0FE;\n",
              "    border: none;\n",
              "    border-radius: 50%;\n",
              "    cursor: pointer;\n",
              "    display: none;\n",
              "    fill: #1967D2;\n",
              "    height: 32px;\n",
              "    padding: 0 0 0 0;\n",
              "    width: 32px;\n",
              "  }\n",
              "\n",
              "  .colab-df-quickchart:hover {\n",
              "    background-color: #E2EBFA;\n",
              "    box-shadow: 0px 1px 2px rgba(60, 64, 67, 0.3), 0px 1px 3px 1px rgba(60, 64, 67, 0.15);\n",
              "    fill: #174EA6;\n",
              "  }\n",
              "\n",
              "  [theme=dark] .colab-df-quickchart {\n",
              "    background-color: #3B4455;\n",
              "    fill: #D2E3FC;\n",
              "  }\n",
              "\n",
              "  [theme=dark] .colab-df-quickchart:hover {\n",
              "    background-color: #434B5C;\n",
              "    box-shadow: 0px 1px 3px 1px rgba(0, 0, 0, 0.15);\n",
              "    filter: drop-shadow(0px 1px 2px rgba(0, 0, 0, 0.3));\n",
              "    fill: #FFFFFF;\n",
              "  }\n",
              "</style>\n",
              "\n",
              "  <script>\n",
              "    async function quickchart(key) {\n",
              "      const charts = await google.colab.kernel.invokeFunction(\n",
              "          'suggestCharts', [key], {});\n",
              "    }\n",
              "    (() => {\n",
              "      let quickchartButtonEl =\n",
              "        document.querySelector('#df-4905fa58-aaa3-47d0-ae62-7e6769faf680 button');\n",
              "      quickchartButtonEl.style.display =\n",
              "        google.colab.kernel.accessAllowed ? 'block' : 'none';\n",
              "    })();\n",
              "  </script>\n",
              "</div>\n",
              "    </div>\n",
              "  </div>\n"
            ],
            "text/plain": [
              "     symbol                       date   close     high      low     open  \\\n",
              "1251   AAPL  2023-08-23 00:00:00+00:00  181.12  181.550  178.325  178.520   \n",
              "1252   AAPL  2023-08-24 00:00:00+00:00  176.38  181.104  176.010  180.674   \n",
              "1253   AAPL  2023-08-25 00:00:00+00:00  178.61  179.150  175.820  177.380   \n",
              "1254   AAPL  2023-08-28 00:00:00+00:00  180.19  180.590  178.545  180.090   \n",
              "1255   AAPL  2023-08-29 00:00:00+00:00  184.12  184.900  179.500  179.695   \n",
              "\n",
              "        volume  adjClose  adjHigh   adjLow  adjOpen  adjVolume  divCash  \\\n",
              "1251  52722752    181.12  181.550  178.325  178.520   52722752      0.0   \n",
              "1252  54945798    176.38  181.104  176.010  180.674   54945798      0.0   \n",
              "1253  51449594    178.61  179.150  175.820  177.380   51449594      0.0   \n",
              "1254  43820697    180.19  180.590  178.545  180.090   43820697      0.0   \n",
              "1255  53003948    184.12  184.900  179.500  179.695   53003948      0.0   \n",
              "\n",
              "      splitFactor  \n",
              "1251          1.0  \n",
              "1252          1.0  \n",
              "1253          1.0  \n",
              "1254          1.0  \n",
              "1255          1.0  "
            ]
          },
          "execution_count": 11,
          "metadata": {},
          "output_type": "execute_result"
        }
      ],
      "source": [
        "df.tail()"
      ]
    },
    {
      "cell_type": "code",
      "execution_count": null,
      "metadata": {
        "id": "HtUFKzrtdDAr"
      },
      "outputs": [],
      "source": [
        "df1 = df.reset_index()['close']"
      ]
    },
    {
      "cell_type": "code",
      "execution_count": null,
      "metadata": {
        "colab": {
          "base_uri": "https://localhost:8080/"
        },
        "id": "qiW1pFdFdJck",
        "outputId": "b674518e-ad98-4e63-8a25-c44ee147381b"
      },
      "outputs": [
        {
          "data": {
            "text/plain": [
              "(1256,)"
            ]
          },
          "execution_count": 13,
          "metadata": {},
          "output_type": "execute_result"
        }
      ],
      "source": [
        "df1.shape"
      ]
    },
    {
      "cell_type": "code",
      "execution_count": null,
      "metadata": {
        "colab": {
          "base_uri": "https://localhost:8080/",
          "height": 447
        },
        "id": "EZgwxQtmdMOl",
        "outputId": "ddd42720-c9f0-49e2-9264-357212342884"
      },
      "outputs": [
        {
          "data": {
            "text/plain": [
              "[<matplotlib.lines.Line2D at 0x7c9aa4c7e980>]"
            ]
          },
          "execution_count": 14,
          "metadata": {},
          "output_type": "execute_result"
        },
        {
          "data": {
            "image/png": "[encoded data removed]",
            "text/plain": [
              "<Figure size 640x480 with 1 Axes>"
            ]
          },
          "metadata": {},
          "output_type": "display_data"
        }
      ],
      "source": [
        "import matplotlib.pyplot as plt\n",
        "plt.plot(df1)"
      ]
    },
    {
      "cell_type": "code",
      "execution_count": null,
      "metadata": {
        "id": "IKNU1fCjdf7o"
      },
      "outputs": [],
      "source": [
        "### LSTM are sensitive to the scale of the data . so we apply MinMax scaler"
      ]
    },
    {
      "cell_type": "code",
      "execution_count": null,
      "metadata": {
        "id": "gWyjL6CHdtMh"
      },
      "outputs": [],
      "source": [
        "import numpy as np\n",
        "from sklearn.preprocessing import MinMaxScaler\n",
        "scaler = MinMaxScaler(feature_range=(0,1))\n",
        "df1 = scaler.fit_transform(np.array(df1).reshape(-1,1))"
      ]
    },
    {
      "cell_type": "markdown",
      "metadata": {
        "id": "JDcDD7ycdgJg"
      },
      "source": []
    },
    {
      "cell_type": "code",
      "execution_count": null,
      "metadata": {
        "colab": {
          "base_uri": "https://localhost:8080/"
        },
        "id": "bnuUF8HPecvf",
        "outputId": "f42fc50f-ab19-4f9d-9c24-3d7149c02952"
      },
      "outputs": [
        {
          "name": "stdout",
          "output_type": "stream",
          "text": [
            "[[0.30254227]\n",
            " [0.3043707 ]\n",
            " [0.3006387 ]\n",
            " ...\n",
            " [0.17976205]\n",
            " [0.18371947]\n",
            " [0.19356293]]\n"
          ]
        }
      ],
      "source": [
        "print(df1)"
      ]
    },
    {
      "cell_type": "code",
      "execution_count": null,
      "metadata": {
        "id": "EHDlZDvNjgHX"
      },
      "outputs": [],
      "source": [
        "##splitting the dataset into train and test split\n",
        "training_size = int(len(df1)*0.65)\n",
        "test_size = len(df1)-training_size\n",
        "train_data,test_data = df1[0:training_size,:],df1[training_size:len(df1),:1]"
      ]
    },
    {
      "cell_type": "code",
      "execution_count": null,
      "metadata": {
        "id": "s2OjzmUbhekV"
      },
      "outputs": [],
      "source": [
        "# convert an array of valyes into a dataset matrix\n",
        "def create_dataset(dataset, time_step = 1):\n",
        "  dataX, dataY = [], []\n",
        "  for i in range(len(dataset)-time_step-1):\n",
        "    a = dataset[i:(i+time_step),0]\n",
        "    dataX.append(a)\n",
        "    dataY.append(dataset[i + time_step,0])\n",
        "  return np.array(dataX), np.array(dataY\n",
        "                                      )\n"
      ]
    },
    {
      "cell_type": "code",
      "execution_count": null,
      "metadata": {
        "id": "4Aip4b8unDAs"
      },
      "outputs": [],
      "source": [
        "time_step = 100\n",
        "X_train , y_train =  create_dataset(train_data, time_step)\n",
        "X_test , y_test =  create_dataset(test_data, time_step)"
      ]
    },
    {
      "cell_type": "code",
      "execution_count": null,
      "metadata": {
        "colab": {
          "base_uri": "https://localhost:8080/"
        },
        "id": "mNy3ocyYn6a4",
        "outputId": "4ee214fc-fe21-400f-f0cb-e249cfe9adf1"
      },
      "outputs": [
        {
          "name": "stdout",
          "output_type": "stream",
          "text": [
            "(715, 100)\n",
            "(715,)\n",
            "(339, 100)\n",
            "(339,)\n"
          ]
        },
        {
          "data": {
            "text/plain": [
              "(None, None)"
            ]
          },
          "execution_count": 21,
          "metadata": {},
          "output_type": "execute_result"
        }
      ],
      "source": [
        "print(X_train.shape) , print(y_train.shape)\n",
        "print(X_test.shape) , print(y_test.shape)\n"
      ]
    },
    {
      "cell_type": "code",
      "execution_count": null,
      "metadata": {
        "id": "AgTnT0-qMDZ_"
      },
      "outputs": [],
      "source": [
        "#reshape input to be [smaple , time steps , features] which is require for LSTM\n",
        "X_train = X_train.reshape(X_train.shape[0],X_train.shape[1], 1)\n",
        "X_test= X_test.reshape(X_test.shape[0],X_test.shape[1], 1)"
      ]
    },
    {
      "cell_type": "code",
      "execution_count": null,
      "metadata": {
        "id": "LA0nzEXNwnwS"
      },
      "outputs": [],
      "source": [
        "### create the Stocked LSTM model\n",
        "import tensorflow as tf\n",
        "from tensorflow.keras.models import Sequential\n",
        "from tensorflow.keras.layers import Dense, LSTM\n"
      ]
    },
    {
      "cell_type": "code",
      "execution_count": null,
      "metadata": {
        "id": "9oBYZb5ZxDkI"
      },
      "outputs": [],
      "source": [
        "model = Sequential()\n",
        "model.add(LSTM(50,return_sequences = True, input_shape= (100,1)))\n",
        "model.add(LSTM(50,return_sequences = True))\n",
        "model.add(LSTM(50))\n",
        "model.add(Dense(1))\n",
        "model.compile(loss='mean_squared_error',optimizer='adam')\n",
        "\n"
      ]
    },
    {
      "cell_type": "code",
      "execution_count": null,
      "metadata": {
        "colab": {
          "base_uri": "https://localhost:8080/"
        },
        "id": "YviWTL5LCD0H",
        "outputId": "8cc705c1-8b5e-40e0-da3a-f44d0b5710e3"
      },
      "outputs": [
        {
          "name": "stdout",
          "output_type": "stream",
          "text": [
            "Model: \"sequential_1\"\n",
            "_________________________________________________________________\n",
            " Layer (type)                Output Shape              Param #   \n",
            "=================================================================\n",
            " lstm_3 (LSTM)               (None, 100, 50)           10400     \n",
            "                                                                 \n",
            " lstm_4 (LSTM)               (None, 100, 50)           20200     \n",
            "                                                                 \n",
            " lstm_5 (LSTM)               (None, 50)                20200     \n",
            "                                                                 \n",
            " dense_1 (Dense)             (None, 1)                 51        \n",
            "                                                                 \n",
            "=================================================================\n",
            "Total params: 50,851\n",
            "Trainable params: 50,851\n",
            "Non-trainable params: 0\n",
            "_________________________________________________________________\n"
          ]
        }
      ],
      "source": [
        "model.summary()"
      ]
    },
    {
      "cell_type": "code",
      "execution_count": null,
      "metadata": {
        "colab": {
          "base_uri": "https://localhost:8080/"
        },
        "id": "CDGIrgsXNHXz",
        "outputId": "664e36f5-25d8-4dc4-ce96-8ba45bbf1e0a"
      },
      "outputs": [
        {
          "name": "stdout",
          "output_type": "stream",
          "text": [
            "Epoch 1/100\n",
            "12/12 [==============================] - 13s 364ms/step - loss: 0.0521 - val_loss: 0.0016\n",
            "Epoch 2/100\n",
            "12/12 [==============================] - 3s 248ms/step - loss: 0.0238 - val_loss: 0.0027\n",
            "Epoch 3/100\n",
            "12/12 [==============================] - 4s 337ms/step - loss: 0.0136 - val_loss: 5.3159e-04\n",
            "Epoch 4/100\n",
            "12/12 [==============================] - 4s 296ms/step - loss: 0.0108 - val_loss: 6.6697e-04\n",
            "Epoch 5/100\n",
            "12/12 [==============================] - 4s 333ms/step - loss: 0.0092 - val_loss: 3.7087e-04\n",
            "Epoch 6/100\n",
            "12/12 [==============================] - 2s 203ms/step - loss: 0.0089 - val_loss: 3.3957e-04\n",
            "Epoch 7/100\n",
            "12/12 [==============================] - 2s 204ms/step - loss: 0.0077 - val_loss: 0.0011\n",
            "Epoch 8/100\n",
            "12/12 [==============================] - 2s 206ms/step - loss: 0.0072 - val_loss: 3.2413e-04\n",
            "Epoch 9/100\n",
            "12/12 [==============================] - 2s 200ms/step - loss: 0.0066 - val_loss: 2.8866e-04\n",
            "Epoch 10/100\n",
            "12/12 [==============================] - 3s 297ms/step - loss: 0.0062 - val_loss: 4.7870e-04\n",
            "Epoch 11/100\n",
            "12/12 [==============================] - 2s 200ms/step - loss: 0.0059 - val_loss: 2.6678e-04\n",
            "Epoch 12/100\n",
            "12/12 [==============================] - 2s 205ms/step - loss: 0.0050 - val_loss: 6.6015e-04\n",
            "Epoch 13/100\n",
            "12/12 [==============================] - 2s 201ms/step - loss: 0.0044 - val_loss: 3.0082e-04\n",
            "Epoch 14/100\n",
            "12/12 [==============================] - 3s 228ms/step - loss: 0.0041 - val_loss: 7.4693e-04\n",
            "Epoch 15/100\n",
            "12/12 [==============================] - 3s 264ms/step - loss: 0.0041 - val_loss: 3.4829e-04\n",
            "Epoch 16/100\n",
            "12/12 [==============================] - 3s 218ms/step - loss: 0.0039 - val_loss: 5.2000e-04\n",
            "Epoch 17/100\n",
            "12/12 [==============================] - 2s 201ms/step - loss: 0.0034 - val_loss: 2.8530e-04\n",
            "Epoch 18/100\n",
            "12/12 [==============================] - 2s 199ms/step - loss: 0.0032 - val_loss: 2.7535e-04\n",
            "Epoch 19/100\n",
            "12/12 [==============================] - 3s 275ms/step - loss: 0.0030 - val_loss: 2.7373e-04\n",
            "Epoch 20/100\n",
            "12/12 [==============================] - 3s 217ms/step - loss: 0.0025 - val_loss: 2.5593e-04\n",
            "Epoch 21/100\n",
            "12/12 [==============================] - 2s 206ms/step - loss: 0.0029 - val_loss: 5.1553e-04\n",
            "Epoch 22/100\n",
            "12/12 [==============================] - 2s 207ms/step - loss: 0.0028 - val_loss: 2.0807e-04\n",
            "Epoch 23/100\n",
            "12/12 [==============================] - 2s 204ms/step - loss: 0.0026 - val_loss: 2.0834e-04\n",
            "Epoch 24/100\n",
            "12/12 [==============================] - 4s 305ms/step - loss: 0.0045 - val_loss: 2.1766e-04\n",
            "Epoch 25/100\n",
            "12/12 [==============================] - 2s 201ms/step - loss: 0.0026 - val_loss: 2.2062e-04\n",
            "Epoch 26/100\n",
            "12/12 [==============================] - 2s 201ms/step - loss: 0.0024 - val_loss: 2.1110e-04\n",
            "Epoch 27/100\n",
            "12/12 [==============================] - 2s 199ms/step - loss: 0.0040 - val_loss: 3.3739e-04\n",
            "Epoch 28/100\n",
            "12/12 [==============================] - 2s 205ms/step - loss: 0.0036 - val_loss: 2.3764e-04\n",
            "Epoch 29/100\n",
            "12/12 [==============================] - 4s 304ms/step - loss: 0.0030 - val_loss: 3.0785e-04\n",
            "Epoch 30/100\n",
            "12/12 [==============================] - 2s 201ms/step - loss: 0.0025 - val_loss: 2.7790e-04\n",
            "Epoch 31/100\n",
            "12/12 [==============================] - 3s 261ms/step - loss: 0.0024 - val_loss: 3.1431e-04\n",
            "Epoch 32/100\n",
            "12/12 [==============================] - 2s 202ms/step - loss: 0.0044 - val_loss: 3.6405e-04\n",
            "Epoch 33/100\n",
            "12/12 [==============================] - 3s 250ms/step - loss: 0.0041 - val_loss: 2.6745e-04\n",
            "Epoch 34/100\n",
            "12/12 [==============================] - 3s 240ms/step - loss: 0.0030 - val_loss: 2.5883e-04\n",
            "Epoch 35/100\n",
            "12/12 [==============================] - 2s 201ms/step - loss: 0.0023 - val_loss: 2.5683e-04\n",
            "Epoch 36/100\n",
            "12/12 [==============================] - 2s 206ms/step - loss: 0.0023 - val_loss: 3.5146e-04\n",
            "Epoch 37/100\n",
            "12/12 [==============================] - 2s 197ms/step - loss: 0.0021 - val_loss: 2.1635e-04\n",
            "Epoch 38/100\n",
            "12/12 [==============================] - 3s 291ms/step - loss: 0.0019 - val_loss: 1.9736e-04\n",
            "Epoch 39/100\n",
            "12/12 [==============================] - 3s 203ms/step - loss: 0.0019 - val_loss: 2.0481e-04\n",
            "Epoch 40/100\n",
            "12/12 [==============================] - 2s 203ms/step - loss: 0.0018 - val_loss: 2.0036e-04\n",
            "Epoch 41/100\n",
            "12/12 [==============================] - 2s 205ms/step - loss: 0.0016 - val_loss: 2.0879e-04\n",
            "Epoch 42/100\n",
            "12/12 [==============================] - 2s 203ms/step - loss: 0.0017 - val_loss: 2.0513e-04\n",
            "Epoch 43/100\n",
            "12/12 [==============================] - 4s 307ms/step - loss: 0.0017 - val_loss: 2.1015e-04\n",
            "Epoch 44/100\n",
            "12/12 [==============================] - 2s 200ms/step - loss: 0.0018 - val_loss: 2.0989e-04\n",
            "Epoch 45/100\n",
            "12/12 [==============================] - 2s 202ms/step - loss: 0.0019 - val_loss: 2.4042e-04\n",
            "Epoch 46/100\n",
            "12/12 [==============================] - 2s 202ms/step - loss: 0.0017 - val_loss: 2.0616e-04\n",
            "Epoch 47/100\n",
            "12/12 [==============================] - 2s 201ms/step - loss: 0.0018 - val_loss: 2.4156e-04\n",
            "Epoch 48/100\n",
            "12/12 [==============================] - 4s 307ms/step - loss: 0.0021 - val_loss: 2.1444e-04\n",
            "Epoch 49/100\n",
            "12/12 [==============================] - 2s 203ms/step - loss: 0.0020 - val_loss: 2.2428e-04\n",
            "Epoch 50/100\n",
            "12/12 [==============================] - 2s 202ms/step - loss: 0.0019 - val_loss: 2.6742e-04\n",
            "Epoch 51/100\n",
            "12/12 [==============================] - 2s 203ms/step - loss: 0.0023 - val_loss: 3.5360e-04\n",
            "Epoch 52/100\n",
            "12/12 [==============================] - 3s 212ms/step - loss: 0.0025 - val_loss: 3.5091e-04\n",
            "Epoch 53/100\n",
            "12/12 [==============================] - 3s 277ms/step - loss: 0.0021 - val_loss: 2.3101e-04\n",
            "Epoch 54/100\n",
            "12/12 [==============================] - 2s 204ms/step - loss: 0.0017 - val_loss: 2.1218e-04\n",
            "Epoch 55/100\n",
            "12/12 [==============================] - 2s 203ms/step - loss: 0.0018 - val_loss: 2.4140e-04\n",
            "Epoch 56/100\n",
            "12/12 [==============================] - 3s 244ms/step - loss: 0.0015 - val_loss: 2.1406e-04\n",
            "Epoch 57/100\n",
            "12/12 [==============================] - 3s 273ms/step - loss: 0.0015 - val_loss: 2.3909e-04\n",
            "Epoch 58/100\n",
            "12/12 [==============================] - 3s 217ms/step - loss: 0.0016 - val_loss: 2.4642e-04\n",
            "Epoch 59/100\n",
            "12/12 [==============================] - 2s 203ms/step - loss: 0.0016 - val_loss: 2.4862e-04\n",
            "Epoch 60/100\n",
            "12/12 [==============================] - 2s 204ms/step - loss: 0.0019 - val_loss: 3.8265e-04\n",
            "Epoch 61/100\n",
            "12/12 [==============================] - 2s 199ms/step - loss: 0.0020 - val_loss: 2.3146e-04\n",
            "Epoch 62/100\n",
            "12/12 [==============================] - 3s 300ms/step - loss: 0.0051 - val_loss: 0.0015\n",
            "Epoch 63/100\n",
            "12/12 [==============================] - 2s 197ms/step - loss: 0.0047 - val_loss: 2.6935e-04\n",
            "Epoch 64/100\n",
            "12/12 [==============================] - 2s 202ms/step - loss: 0.0040 - val_loss: 0.0011\n",
            "Epoch 65/100\n",
            "12/12 [==============================] - 2s 205ms/step - loss: 0.0035 - val_loss: 2.7791e-04\n",
            "Epoch 66/100\n",
            "12/12 [==============================] - 2s 200ms/step - loss: 0.0027 - val_loss: 2.6869e-04\n",
            "Epoch 67/100\n",
            "12/12 [==============================] - 4s 311ms/step - loss: 0.0021 - val_loss: 2.2621e-04\n",
            "Epoch 68/100\n",
            "12/12 [==============================] - 2s 200ms/step - loss: 0.0019 - val_loss: 2.0240e-04\n",
            "Epoch 69/100\n",
            "12/12 [==============================] - 2s 201ms/step - loss: 0.0020 - val_loss: 2.0897e-04\n",
            "Epoch 70/100\n",
            "12/12 [==============================] - 2s 202ms/step - loss: 0.0019 - val_loss: 3.3732e-04\n",
            "Epoch 71/100\n",
            "12/12 [==============================] - 3s 278ms/step - loss: 0.0021 - val_loss: 2.0948e-04\n",
            "Epoch 72/100\n",
            "12/12 [==============================] - 3s 262ms/step - loss: 0.0020 - val_loss: 2.1062e-04\n",
            "Epoch 73/100\n",
            "12/12 [==============================] - 2s 202ms/step - loss: 0.0020 - val_loss: 1.9987e-04\n",
            "Epoch 74/100\n",
            "12/12 [==============================] - 2s 196ms/step - loss: 0.0018 - val_loss: 2.0914e-04\n",
            "Epoch 75/100\n",
            "12/12 [==============================] - 2s 196ms/step - loss: 0.0016 - val_loss: 1.9712e-04\n",
            "Epoch 76/100\n",
            "12/12 [==============================] - 3s 238ms/step - loss: 0.0017 - val_loss: 2.9823e-04\n",
            "Epoch 77/100\n",
            "12/12 [==============================] - 3s 254ms/step - loss: 0.0016 - val_loss: 2.1221e-04\n",
            "Epoch 78/100\n",
            "12/12 [==============================] - 2s 201ms/step - loss: 0.0015 - val_loss: 2.6957e-04\n",
            "Epoch 79/100\n",
            "12/12 [==============================] - 2s 202ms/step - loss: 0.0017 - val_loss: 2.0468e-04\n",
            "Epoch 80/100\n",
            "12/12 [==============================] - 2s 201ms/step - loss: 0.0017 - val_loss: 2.1586e-04\n",
            "Epoch 81/100\n",
            "12/12 [==============================] - 3s 273ms/step - loss: 0.0015 - val_loss: 2.3814e-04\n",
            "Epoch 82/100\n",
            "12/12 [==============================] - 3s 219ms/step - loss: 0.0015 - val_loss: 2.4464e-04\n",
            "Epoch 83/100\n",
            "12/12 [==============================] - 3s 228ms/step - loss: 0.0016 - val_loss: 2.5493e-04\n",
            "Epoch 84/100\n",
            "12/12 [==============================] - 2s 200ms/step - loss: 0.0021 - val_loss: 3.9132e-04\n",
            "Epoch 85/100\n",
            "12/12 [==============================] - 2s 200ms/step - loss: 0.0025 - val_loss: 2.0870e-04\n",
            "Epoch 86/100\n",
            "12/12 [==============================] - 4s 302ms/step - loss: 0.0017 - val_loss: 2.1776e-04\n",
            "Epoch 87/100\n",
            "12/12 [==============================] - 2s 202ms/step - loss: 0.0016 - val_loss: 2.5977e-04\n",
            "Epoch 88/100\n",
            "12/12 [==============================] - 2s 200ms/step - loss: 0.0015 - val_loss: 2.5612e-04\n",
            "Epoch 89/100\n",
            "12/12 [==============================] - 2s 200ms/step - loss: 0.0014 - val_loss: 2.8122e-04\n",
            "Epoch 90/100\n",
            "12/12 [==============================] - 2s 205ms/step - loss: 0.0014 - val_loss: 2.2331e-04\n",
            "Epoch 91/100\n",
            "12/12 [==============================] - 4s 306ms/step - loss: 0.0014 - val_loss: 2.3208e-04\n",
            "Epoch 92/100\n",
            "12/12 [==============================] - 2s 201ms/step - loss: 0.0016 - val_loss: 2.9520e-04\n",
            "Epoch 93/100\n",
            "12/12 [==============================] - 2s 202ms/step - loss: 0.0013 - val_loss: 2.1401e-04\n",
            "Epoch 94/100\n",
            "12/12 [==============================] - 2s 204ms/step - loss: 0.0015 - val_loss: 2.3955e-04\n",
            "Epoch 95/100\n",
            "12/12 [==============================] - 3s 212ms/step - loss: 0.0014 - val_loss: 2.3430e-04\n",
            "Epoch 96/100\n",
            "12/12 [==============================] - 3s 280ms/step - loss: 0.0016 - val_loss: 4.5920e-04\n",
            "Epoch 97/100\n",
            "12/12 [==============================] - 2s 200ms/step - loss: 0.0017 - val_loss: 2.2434e-04\n",
            "Epoch 98/100\n",
            "12/12 [==============================] - 2s 205ms/step - loss: 0.0011 - val_loss: 2.0752e-04\n",
            "Epoch 99/100\n",
            "12/12 [==============================] - 2s 208ms/step - loss: 0.0021 - val_loss: 2.4166e-04\n",
            "Epoch 100/100\n",
            "12/12 [==============================] - 3s 242ms/step - loss: 0.0015 - val_loss: 2.7427e-04\n"
          ]
        },
        {
          "data": {
            "text/plain": [
              "<keras.callbacks.History at 0x7c9a39783df0>"
            ]
          },
          "execution_count": 31,
          "metadata": {},
          "output_type": "execute_result"
        }
      ],
      "source": [
        "model.fit(X_train,y_train,validation_data=(X_test,y_test),epochs=100,batch_size=64,verbose=1)"
      ]
    },
    {
      "cell_type": "code",
      "execution_count": null,
      "metadata": {
        "colab": {
          "base_uri": "https://localhost:8080/"
        },
        "id": "y0pITGoKPQaJ",
        "outputId": "1e5046b0-75da-4f8b-ddbf-ada3ce1b9e57"
      },
      "outputs": [
        {
          "name": "stdout",
          "output_type": "stream",
          "text": [
            "23/23 [==============================] - 3s 40ms/step\n",
            "11/11 [==============================] - 0s 41ms/step\n"
          ]
        }
      ],
      "source": [
        "### Lets Do the prediction and check performance metrices\n",
        "train_predict = model.predict(X_train)\n",
        "test_predict = model.predict(X_test)"
      ]
    },
    {
      "cell_type": "code",
      "execution_count": null,
      "metadata": {
        "id": "9_aXGRlvQ2OZ"
      },
      "outputs": [],
      "source": [
        "### Transformback to original form\n",
        "train_predict = scaler.inverse_transform(train_predict)\n",
        "test_predict = scaler.inverse_transform(test_predict)\n"
      ]
    },
    {
      "cell_type": "code",
      "execution_count": null,
      "metadata": {
        "colab": {
          "base_uri": "https://localhost:8080/"
        },
        "id": "Fdwiu0WdRxUw",
        "outputId": "061df95c-a9c7-46a9-d530-9c9cae63d707"
      },
      "outputs": [
        {
          "data": {
            "text/plain": [
              "219.7952465914611"
            ]
          },
          "execution_count": 36,
          "metadata": {},
          "output_type": "execute_result"
        }
      ],
      "source": [
        "### Calculate RSME performance metrics\n",
        "import math\n",
        "from sklearn.metrics import mean_squared_error\n",
        "math.sqrt(mean_squared_error(y_train,train_predict))"
      ]
    },
    {
      "cell_type": "code",
      "execution_count": null,
      "metadata": {
        "colab": {
          "base_uri": "https://localhost:8080/"
        },
        "id": "0vKJ4QIgSz2l",
        "outputId": "611a45fc-fd11-4fc4-cef6-0155dec5c24f"
      },
      "outputs": [
        {
          "data": {
            "text/plain": [
              "155.53730299846177"
            ]
          },
          "execution_count": 37,
          "metadata": {},
          "output_type": "execute_result"
        }
      ],
      "source": [
        "math.sqrt(mean_squared_error(y_test,test_predict))"
      ]
    },
    {
      "cell_type": "code",
      "execution_count": null,
      "metadata": {
        "colab": {
          "base_uri": "https://localhost:8080/",
          "height": 430
        },
        "id": "1_KpH4meTC7R",
        "outputId": "69f9f1b4-b6ba-4061-9856-317411313131"
      },
      "outputs": [
        {
          "data": {
            "image/png": "[encoded data removed]",
            "text/plain": [
              "<Figure size 640x480 with 1 Axes>"
            ]
          },
          "metadata": {},
          "output_type": "display_data"
        }
      ],
      "source": [
        "look_back = 100\n",
        "trainPredictPlot = np.empty_like(df1)\n",
        "trainPredictPlot[:, :] = np.nan\n",
        "trainPredictPlot[look_back:len(train_predict) + look_back, :] = train_predict\n",
        "\n",
        "# Shift test prediction for plotting\n",
        "testPredictPlot = np.empty_like(df1)\n",
        "testPredictPlot[:, :] = np.nan\n",
        "testPredictPlot[len(train_predict) + (look_back * 2) + 1:len(df1) - 1, :] = test_predict\n",
        "\n",
        "# Plot baseline and predictions\n",
        "plt.plot(scaler.inverse_transform(df1))\n",
        "plt.plot(trainPredictPlot)\n",
        "plt.plot(testPredictPlot)\n",
        "plt.show()\n"
      ]
    },
    {
      "cell_type": "code",
      "execution_count": null,
      "metadata": {
        "colab": {
          "base_uri": "https://localhost:8080/"
        },
        "id": "tq0AXucmbLNU",
        "outputId": "aa5ab5d8-a601-497d-f1d9-bcd56131e856"
      },
      "outputs": [
        {
          "data": {
            "text/plain": [
              "(1, 100)"
            ]
          },
          "execution_count": 53,
          "metadata": {},
          "output_type": "execute_result"
        }
      ],
      "source": [
        "x_input = test_data[340:].reshape(1, -1)\n",
        "x_input.shape"
      ]
    },
    {
      "cell_type": "code",
      "execution_count": null,
      "metadata": {
        "colab": {
          "base_uri": "https://localhost:8080/"
        },
        "id": "lAONe9CRcNgh",
        "outputId": "11f1f818-5810-4d04-bd35-b9e7f89ac59c"
      },
      "outputs": [
        {
          "data": {
            "text/plain": [
              "(440, 1)"
            ]
          },
          "execution_count": 52,
          "metadata": {},
          "output_type": "execute_result"
        }
      ],
      "source": [
        "test_data.shape"
      ]
    },
    {
      "cell_type": "code",
      "execution_count": null,
      "metadata": {
        "id": "vc6XUI-SZoDV"
      },
      "outputs": [],
      "source": [
        "temp_input = list(x_input)\n",
        "temp_input = temp_input[0].tolist(\n",
        "\n",
        ")"
      ]
    },
    {
      "cell_type": "code",
      "execution_count": null,
      "metadata": {
        "colab": {
          "base_uri": "https://localhost:8080/"
        },
        "id": "IzamjXjobdoh",
        "outputId": "504b0399-17c7-416e-f91e-a739051da970"
      },
      "outputs": [
        {
          "data": {
            "text/plain": [
              "[0.13823418910457103,\n",
              " 0.13515341264871633,\n",
              " 0.1334001252348152,\n",
              " 0.14707576706324355,\n",
              " 0.14619912335629304,\n",
              " 0.14624921728240442,\n",
              " 0.14935504070131495,\n",
              " 0.15226048841577955,\n",
              " 0.14980588603631806,\n",
              " 0.14572323105823415,\n",
              " 0.14649968691296178,\n",
              " 0.14259236067626796,\n",
              " 0.14256731371321218,\n",
              " 0.15421415153412643,\n",
              " 0.15739511584220411,\n",
              " 0.15716969317470253,\n",
              " 0.1545397620538509,\n",
              " 0.15180964308077638,\n",
              " 0.1476518472135253,\n",
              " 0.16713838447088286,\n",
              " 0.16696305572949277,\n",
              " 0.16262993112085156,\n",
              " 0.16710081402629928,\n",
              " 0.16758922980588598,\n",
              " 0.16463368816530988,\n",
              " 0.1633813400125234,\n",
              " 0.1633813400125234,\n",
              " 0.16493425172197868,\n",
              " 0.17084533500313087,\n",
              " 0.17112085159674384,\n",
              " 0.1687163431433938,\n",
              " 0.16210394489668123,\n",
              " 0.16280525986224165,\n",
              " 0.1656856606136506,\n",
              " 0.17179711959924854,\n",
              " 0.17648090169067,\n",
              " 0.17635566687539134,\n",
              " 0.1834690043832185,\n",
              " 0.1856230432060112,\n",
              " 0.18219160926737632,\n",
              " 0.18126487163431432,\n",
              " 0.1777833437695679,\n",
              " 0.18467125860989347,\n",
              " 0.18564809016906697,\n",
              " 0.19273638071383836,\n",
              " 0.1915341264871634,\n",
              " 0.19313713212273004,\n",
              " 0.19829680651221032,\n",
              " 0.1955666875391358,\n",
              " 0.1957921102066374,\n",
              " 0.1931621790857858,\n",
              " 0.2007764558547276,\n",
              " 0.19997495303694424,\n",
              " 0.19644333124608637,\n",
              " 0.2034314339386349,\n",
              " 0.2064120225422667,\n",
              " 0.2072636192861615,\n",
              " 0.21823418910457104,\n",
              " 0.21445209768315587,\n",
              " 0.21162179085785848,\n",
              " 0.21282404508453345,\n",
              " 0.20999373825923606,\n",
              " 0.20480901690670006,\n",
              " 0.20348152786474638,\n",
              " 0.20771446462116466,\n",
              " 0.20964308077645577,\n",
              " 0.21001878522229173,\n",
              " 0.21828428303068248,\n",
              " 0.2176330619912335,\n",
              " 0.22106449592986843,\n",
              " 0.21613024420788973,\n",
              " 0.21314965560425791,\n",
              " 0.215178459611772,\n",
              " 0.21735754539762048,\n",
              " 0.21956167814652466,\n",
              " 0.21635566687539132,\n",
              " 0.22289292423293672,\n",
              " 0.22444583594239192,\n",
              " 0.22232936756418276,\n",
              " 0.21475266123982467,\n",
              " 0.21122103944896675,\n",
              " 0.1882279273638071,\n",
              " 0.18036318096430803,\n",
              " 0.18274264245460237,\n",
              " 0.1787100814026299,\n",
              " 0.17815904821540385,\n",
              " 0.17770820288040068,\n",
              " 0.18189104571070758,\n",
              " 0.1768566061365059,\n",
              " 0.1746524733876017,\n",
              " 0.16821540388227924,\n",
              " 0.16944270507200998,\n",
              " 0.17282404508453347,\n",
              " 0.17630557294927984,\n",
              " 0.18604884157795865,\n",
              " 0.17417658108954281,\n",
              " 0.17976205385097055,\n",
              " 0.18371947401377575,\n",
              " 0.1935629304946775]"
            ]
          },
          "execution_count": 48,
          "metadata": {},
          "output_type": "execute_result"
        }
      ],
      "source": [
        "temp_input"
      ]
    },
    {
      "cell_type": "code",
      "execution_count": null,
      "metadata": {
        "colab": {
          "base_uri": "https://localhost:8080/",
          "height": 140
        },
        "id": "jH9TDNjLbl4c",
        "outputId": "5e2c2577-115c-43c0-b6bd-d69bda928dc7"
      },
      "outputs": [
        {
          "ename": "SyntaxError",
          "evalue": "ignored",
          "output_type": "error",
          "traceback": [
            "\u001b[0;36m  File \u001b[0;32m\"<ipython-input-54-c3da11560738>\"\u001b[0;36m, line \u001b[0;32m3\u001b[0m\n\u001b[0;31m    1st_output=[] n_steps=100\u001b[0m\n\u001b[0m    ^\u001b[0m\n\u001b[0;31mSyntaxError\u001b[0m\u001b[0;31m:\u001b[0m invalid decimal literal\n"
          ]
        }
      ],
      "source": [
        "#demonstrate prediction for next 10 days from numpy import array\n",
        "\n",
        "lst_output=[]\n",
        "n_steps=100\n",
        "i=0\n",
        "while(i<30):\n",
        "  if(len(temp_input)>100):\n",
        "    #print(temp_input)\n",
        "    x_input=np.array(temp_input[1:])\n",
        "    print(\"{} day input {}\".format(i,x_input))\n",
        "    x_input=x_input.reshape(1,-1)\n",
        "    x_input = x_input.reshape((1, n_steps, 1))\n",
        "    #print(x_input)\n",
        "    yhat = model.predict(x_input, verbose=0)\n",
        "    print(\"{} day output {}\".format(i,yhat))\n",
        "    temp_input.extend(yhat[0].tolist())\n",
        "    temp_input=temp_input[1:]\n",
        "    #print(temp_input)\n",
        "    lst_output.extend(yhat.tolist())\n",
        "    i=i+1\n",
        "  else:\n",
        "    x_input = x_input.reshape((1, n_steps,1))\n",
        "    yhat = model.predict(x_input, verbose=0)\n",
        "    print(yhat[0])\n",
        "    temp_input.extend(yhat[0].tolist())\n",
        "    print(len(temp_input))\n",
        "    lst_output.extend(yhat.tolist()) i=i+1\n",
        "\n",
        "print(1st_output)"
      ]
    },
    {
      "cell_type": "code",
      "execution_count": null,
      "metadata": {
        "colab": {
          "background_save": true
        },
        "id": "UUfG-l8Ndejg"
      },
      "outputs": [],
      "source": []
    }
  ],
  "metadata": {
    "colab": {
      "provenance": []
    },
    "kernelspec": {
      "display_name": "Python 3",
      "name": "python3"
    },
    "language_info": {
      "name": "python"
    }
  },
  "nbformat": 4,
  "nbformat_minor": 0
}